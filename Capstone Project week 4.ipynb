{
 "cells": [
  {
   "cell_type": "markdown",
   "metadata": {},
   "source": [
    "# Analysing the Concentration of Chinese Restaurants around London, UK"
   ]
  },
  {
   "cell_type": "markdown",
   "metadata": {},
   "source": [
    "### Introduction\n",
    "London is a very popular city known for its diversity, tourism, businesses, education etc. It is the capital city of the United Kingdom and home of the Queen of England. The population of London currently stands at 8.9m. London is a leading global city. It is the world's largest financial centre alongside New York, and is home to the headquarters of more than 100 of Europe's 500 largest companies. It has the most international visitors of any city in the world. An astonishing 33% of Chinese people in the United Kingdom live in London. London is a world capital of food from different countries of which Chinese food is a very popular choice."
   ]
  },
  {
   "cell_type": "markdown",
   "metadata": {},
   "source": [
    "### The Problem\n",
    "In this project we will try to analyse the concentration of Chinese restaurants in London as well as outside London locations like Cambridge and Oxford. Two popular cities known for having the best universities in the world. \n",
    "\n",
    "This project will enable us to use powerful data science tools to analyse and visualise areas where there is lower concentration of Chinese restaurants and will help an investor who wants to set up a Chinese restaurant in a good location.\n"
   ]
  },
  {
   "cell_type": "markdown",
   "metadata": {},
   "source": [
    "### Data Description\n",
    "The data to be used in solving this problem, we will be using geopy to find the coordinates for each neighborhood. Foursquare API will be used then to collect information on the neighborhood venues. \n",
    "\n",
    "Geopy Nominatin will be used to obtain the geo coordinates of the cities London, Cambridge and Oxford.\n"
   ]
  },
  {
   "cell_type": "markdown",
   "metadata": {},
   "source": [
    "### Methodology\n",
    "\n",
    "The machine learning algorithm to be used to solve the problem is K-means clustering. This method will show the concentration of Chinese restaurants in London, Cambridge and Oxford, which will help the investor or entrepreneur make informed decisions. The Longitude and Latitude of the separate locations will be used as input parameters for the K-means clustering algorithm and this will also provide a visualisation of the findings."
   ]
  },
  {
   "cell_type": "code",
   "execution_count": null,
   "metadata": {},
   "outputs": [],
   "source": []
  }
 ],
 "metadata": {
  "kernelspec": {
   "display_name": "Python 3",
   "language": "python",
   "name": "python3"
  },
  "language_info": {
   "codemirror_mode": {
    "name": "ipython",
    "version": 3
   },
   "file_extension": ".py",
   "mimetype": "text/x-python",
   "name": "python",
   "nbconvert_exporter": "python",
   "pygments_lexer": "ipython3",
   "version": "3.8.3"
  }
 },
 "nbformat": 4,
 "nbformat_minor": 4
}
